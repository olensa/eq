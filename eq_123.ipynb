{
 "cells": [
  {
   "cell_type": "code",
   "execution_count": 1,
   "id": "d3672295",
   "metadata": {},
   "outputs": [
    {
     "name": "stdout",
     "output_type": "stream",
     "text": [
      "Requirement already satisfied: geopandas in /opt/conda/lib/python3.9/site-packages (0.9.0)\n",
      "Requirement already satisfied: descartes in /opt/conda/lib/python3.9/site-packages (1.1.0)\n",
      "Requirement already satisfied: pyproj>=2.2.0 in /opt/conda/lib/python3.9/site-packages (from geopandas) (3.1.0)\n",
      "Requirement already satisfied: shapely>=1.6 in /opt/conda/lib/python3.9/site-packages (from geopandas) (1.7.1)\n",
      "Requirement already satisfied: pandas>=0.24.0 in /opt/conda/lib/python3.9/site-packages (from geopandas) (1.2.4)\n",
      "Requirement already satisfied: fiona>=1.8 in /opt/conda/lib/python3.9/site-packages (from geopandas) (1.8.20)\n",
      "Requirement already satisfied: cligj>=0.5 in /opt/conda/lib/python3.9/site-packages (from fiona>=1.8->geopandas) (0.7.2)\n",
      "Requirement already satisfied: click-plugins>=1.0 in /opt/conda/lib/python3.9/site-packages (from fiona>=1.8->geopandas) (1.1.1)\n",
      "Requirement already satisfied: setuptools in /opt/conda/lib/python3.9/site-packages (from fiona>=1.8->geopandas) (49.6.0.post20210108)\n",
      "Requirement already satisfied: certifi in /opt/conda/lib/python3.9/site-packages (from fiona>=1.8->geopandas) (2021.5.30)\n",
      "Requirement already satisfied: attrs>=17 in /opt/conda/lib/python3.9/site-packages (from fiona>=1.8->geopandas) (21.2.0)\n",
      "Requirement already satisfied: click>=4.0 in /opt/conda/lib/python3.9/site-packages (from fiona>=1.8->geopandas) (7.1.2)\n",
      "Requirement already satisfied: six>=1.7 in /opt/conda/lib/python3.9/site-packages (from fiona>=1.8->geopandas) (1.16.0)\n",
      "Requirement already satisfied: munch in /opt/conda/lib/python3.9/site-packages (from fiona>=1.8->geopandas) (2.5.0)\n",
      "Requirement already satisfied: python-dateutil>=2.7.3 in /opt/conda/lib/python3.9/site-packages (from pandas>=0.24.0->geopandas) (2.8.1)\n",
      "Requirement already satisfied: pytz>=2017.3 in /opt/conda/lib/python3.9/site-packages (from pandas>=0.24.0->geopandas) (2021.1)\n",
      "Requirement already satisfied: numpy>=1.16.5 in /opt/conda/lib/python3.9/site-packages (from pandas>=0.24.0->geopandas) (1.20.3)\n",
      "Requirement already satisfied: matplotlib in /opt/conda/lib/python3.9/site-packages (from descartes) (3.4.2)\n",
      "Requirement already satisfied: cycler>=0.10 in /opt/conda/lib/python3.9/site-packages (from matplotlib->descartes) (0.10.0)\n",
      "Requirement already satisfied: pillow>=6.2.0 in /opt/conda/lib/python3.9/site-packages (from matplotlib->descartes) (8.2.0)\n",
      "Requirement already satisfied: pyparsing>=2.2.1 in /opt/conda/lib/python3.9/site-packages (from matplotlib->descartes) (2.4.7)\n",
      "Requirement already satisfied: kiwisolver>=1.0.1 in /opt/conda/lib/python3.9/site-packages (from matplotlib->descartes) (1.3.1)\n"
     ]
    }
   ],
   "source": [
    "import sys\n",
    "!{sys.executable} -m pip install geopandas descartes"
   ]
  },
  {
   "cell_type": "code",
   "execution_count": 18,
   "id": "7778d082",
   "metadata": {},
   "outputs": [],
   "source": [
    "import os\n",
    "import pandas as pd\n",
    "from math import radians\n",
    "import numpy as np\n",
    "import matplotlib.pyplot as plt\n",
    "import seaborn as sns\n",
    "import descartes\n",
    "import geopandas as gpd\n",
    "from shapely.geometry import Point, Polygon\n",
    "import math\n",
    "from scipy.spatial import distance\n",
    "%matplotlib inline"
   ]
  },
  {
   "cell_type": "code",
   "execution_count": 3,
   "id": "464c80a8",
   "metadata": {},
   "outputs": [],
   "source": [
    "df = pd.read_csv(os.path.expanduser('~/data/DataSample.csv'))"
   ]
  },
  {
   "cell_type": "code",
   "execution_count": 4,
   "id": "1e2e4d11",
   "metadata": {},
   "outputs": [
    {
     "name": "stdout",
     "output_type": "stream",
     "text": [
      "_ID\n",
      " TimeSt\n",
      "Country\n",
      "Province\n",
      "City\n",
      "Latitude\n",
      "Longitude\n"
     ]
    }
   ],
   "source": [
    "# check column names\n",
    "for col in df.columns:\n",
    "    print(col)"
   ]
  },
  {
   "cell_type": "code",
   "execution_count": 12,
   "id": "55db6d26",
   "metadata": {},
   "outputs": [
    {
     "data": {
      "text/html": [
       "<div>\n",
       "<style scoped>\n",
       "    .dataframe tbody tr th:only-of-type {\n",
       "        vertical-align: middle;\n",
       "    }\n",
       "\n",
       "    .dataframe tbody tr th {\n",
       "        vertical-align: top;\n",
       "    }\n",
       "\n",
       "    .dataframe thead th {\n",
       "        text-align: right;\n",
       "    }\n",
       "</style>\n",
       "<table border=\"1\" class=\"dataframe\">\n",
       "  <thead>\n",
       "    <tr style=\"text-align: right;\">\n",
       "      <th></th>\n",
       "      <th>_ID</th>\n",
       "      <th>TimeSt</th>\n",
       "      <th>Country</th>\n",
       "      <th>Province</th>\n",
       "      <th>City</th>\n",
       "      <th>Latitude</th>\n",
       "      <th>Longitude</th>\n",
       "    </tr>\n",
       "  </thead>\n",
       "  <tbody>\n",
       "    <tr>\n",
       "      <th>0</th>\n",
       "      <td>4516516</td>\n",
       "      <td>2017-06-21 00:00:00.143</td>\n",
       "      <td>CA</td>\n",
       "      <td>ON</td>\n",
       "      <td>Waterloo</td>\n",
       "      <td>43.49347</td>\n",
       "      <td>-80.49123</td>\n",
       "    </tr>\n",
       "    <tr>\n",
       "      <th>1</th>\n",
       "      <td>4516547</td>\n",
       "      <td>2017-06-21 18:00:00.193</td>\n",
       "      <td>CA</td>\n",
       "      <td>ON</td>\n",
       "      <td>London</td>\n",
       "      <td>42.93990</td>\n",
       "      <td>-81.27090</td>\n",
       "    </tr>\n",
       "    <tr>\n",
       "      <th>2</th>\n",
       "      <td>4516550</td>\n",
       "      <td>2017-06-21 15:00:00.287</td>\n",
       "      <td>CA</td>\n",
       "      <td>ON</td>\n",
       "      <td>Guelph</td>\n",
       "      <td>43.57760</td>\n",
       "      <td>-80.22010</td>\n",
       "    </tr>\n",
       "    <tr>\n",
       "      <th>3</th>\n",
       "      <td>4516600</td>\n",
       "      <td>2017-06-21 15:00:00.307</td>\n",
       "      <td>CA</td>\n",
       "      <td>ON</td>\n",
       "      <td>Stratford</td>\n",
       "      <td>43.37160</td>\n",
       "      <td>-80.97730</td>\n",
       "    </tr>\n",
       "    <tr>\n",
       "      <th>4</th>\n",
       "      <td>4516613</td>\n",
       "      <td>2017-06-21 15:00:00.497</td>\n",
       "      <td>CA</td>\n",
       "      <td>ON</td>\n",
       "      <td>Stratford</td>\n",
       "      <td>43.37160</td>\n",
       "      <td>-80.97730</td>\n",
       "    </tr>\n",
       "    <tr>\n",
       "      <th>...</th>\n",
       "      <td>...</td>\n",
       "      <td>...</td>\n",
       "      <td>...</td>\n",
       "      <td>...</td>\n",
       "      <td>...</td>\n",
       "      <td>...</td>\n",
       "      <td>...</td>\n",
       "    </tr>\n",
       "    <tr>\n",
       "      <th>22020</th>\n",
       "      <td>5614801</td>\n",
       "      <td>2017-06-21 12:23:07.880</td>\n",
       "      <td>CA</td>\n",
       "      <td>ON</td>\n",
       "      <td>Saint Catharines</td>\n",
       "      <td>43.16440</td>\n",
       "      <td>-79.24560</td>\n",
       "    </tr>\n",
       "    <tr>\n",
       "      <th>22021</th>\n",
       "      <td>5614888</td>\n",
       "      <td>2017-06-21 08:23:01.793</td>\n",
       "      <td>CA</td>\n",
       "      <td>AB</td>\n",
       "      <td>Calgary</td>\n",
       "      <td>51.02093</td>\n",
       "      <td>-114.10621</td>\n",
       "    </tr>\n",
       "    <tr>\n",
       "      <th>22022</th>\n",
       "      <td>5614909</td>\n",
       "      <td>2017-06-21 00:23:07.903</td>\n",
       "      <td>CA</td>\n",
       "      <td>ON</td>\n",
       "      <td>Whitby</td>\n",
       "      <td>43.88730</td>\n",
       "      <td>-78.94220</td>\n",
       "    </tr>\n",
       "    <tr>\n",
       "      <th>22023</th>\n",
       "      <td>5614912</td>\n",
       "      <td>2017-06-21 11:23:07.953</td>\n",
       "      <td>CA</td>\n",
       "      <td>ON</td>\n",
       "      <td>Oakville</td>\n",
       "      <td>43.49340</td>\n",
       "      <td>-79.71260</td>\n",
       "    </tr>\n",
       "    <tr>\n",
       "      <th>22024</th>\n",
       "      <td>5615006</td>\n",
       "      <td>2017-06-21 17:23:08.033</td>\n",
       "      <td>CA</td>\n",
       "      <td>ON</td>\n",
       "      <td>Oakville</td>\n",
       "      <td>43.43090</td>\n",
       "      <td>-79.77670</td>\n",
       "    </tr>\n",
       "  </tbody>\n",
       "</table>\n",
       "<p>22025 rows × 7 columns</p>\n",
       "</div>"
      ],
      "text/plain": [
       "           _ID                   TimeSt Country Province              City  \\\n",
       "0      4516516  2017-06-21 00:00:00.143      CA       ON          Waterloo   \n",
       "1      4516547  2017-06-21 18:00:00.193      CA       ON            London   \n",
       "2      4516550  2017-06-21 15:00:00.287      CA       ON            Guelph   \n",
       "3      4516600  2017-06-21 15:00:00.307      CA       ON         Stratford   \n",
       "4      4516613  2017-06-21 15:00:00.497      CA       ON         Stratford   \n",
       "...        ...                      ...     ...      ...               ...   \n",
       "22020  5614801  2017-06-21 12:23:07.880      CA       ON  Saint Catharines   \n",
       "22021  5614888  2017-06-21 08:23:01.793      CA       AB           Calgary   \n",
       "22022  5614909  2017-06-21 00:23:07.903      CA       ON            Whitby   \n",
       "22023  5614912  2017-06-21 11:23:07.953      CA       ON          Oakville   \n",
       "22024  5615006  2017-06-21 17:23:08.033      CA       ON          Oakville   \n",
       "\n",
       "       Latitude  Longitude  \n",
       "0      43.49347  -80.49123  \n",
       "1      42.93990  -81.27090  \n",
       "2      43.57760  -80.22010  \n",
       "3      43.37160  -80.97730  \n",
       "4      43.37160  -80.97730  \n",
       "...         ...        ...  \n",
       "22020  43.16440  -79.24560  \n",
       "22021  51.02093 -114.10621  \n",
       "22022  43.88730  -78.94220  \n",
       "22023  43.49340  -79.71260  \n",
       "22024  43.43090  -79.77670  \n",
       "\n",
       "[22025 rows x 7 columns]"
      ]
     },
     "execution_count": 12,
     "metadata": {},
     "output_type": "execute_result"
    }
   ],
   "source": [
    "df"
   ]
  },
  {
   "cell_type": "markdown",
   "id": "71b46372",
   "metadata": {},
   "source": [
    "# 1. Cleanup"
   ]
  },
  {
   "cell_type": "code",
   "execution_count": 5,
   "id": "4dddecbd",
   "metadata": {},
   "outputs": [
    {
     "name": "stdout",
     "output_type": "stream",
     "text": [
      "4052\n"
     ]
    }
   ],
   "source": [
    "#how many identical records based on ther geoinfo and timest\n",
    "sus_recs = []\n",
    "for record in df.duplicated(subset = [' TimeSt', 'Longitude', 'Latitude'], keep = False):\n",
    "    if record:\n",
    "        sus_recs.append(record)\n",
    "print(len(sus_recs))"
   ]
  },
  {
   "cell_type": "code",
   "execution_count": 7,
   "id": "f60505c3",
   "metadata": {},
   "outputs": [],
   "source": [
    "#drop all suspicious records \n",
    "df1 = df.drop_duplicates(subset = [' TimeSt', 'Longitude', 'Latitude'], keep = False)"
   ]
  },
  {
   "cell_type": "code",
   "execution_count": 11,
   "id": "5ec5fca1",
   "metadata": {},
   "outputs": [
    {
     "data": {
      "text/html": [
       "<div>\n",
       "<style scoped>\n",
       "    .dataframe tbody tr th:only-of-type {\n",
       "        vertical-align: middle;\n",
       "    }\n",
       "\n",
       "    .dataframe tbody tr th {\n",
       "        vertical-align: top;\n",
       "    }\n",
       "\n",
       "    .dataframe thead th {\n",
       "        text-align: right;\n",
       "    }\n",
       "</style>\n",
       "<table border=\"1\" class=\"dataframe\">\n",
       "  <thead>\n",
       "    <tr style=\"text-align: right;\">\n",
       "      <th></th>\n",
       "      <th>_ID</th>\n",
       "      <th>TimeSt</th>\n",
       "      <th>Country</th>\n",
       "      <th>Province</th>\n",
       "      <th>City</th>\n",
       "      <th>Latitude</th>\n",
       "      <th>Longitude</th>\n",
       "    </tr>\n",
       "  </thead>\n",
       "  <tbody>\n",
       "    <tr>\n",
       "      <th>0</th>\n",
       "      <td>4516516</td>\n",
       "      <td>2017-06-21 00:00:00.143</td>\n",
       "      <td>CA</td>\n",
       "      <td>ON</td>\n",
       "      <td>Waterloo</td>\n",
       "      <td>43.49347</td>\n",
       "      <td>-80.49123</td>\n",
       "    </tr>\n",
       "    <tr>\n",
       "      <th>1</th>\n",
       "      <td>4516547</td>\n",
       "      <td>2017-06-21 18:00:00.193</td>\n",
       "      <td>CA</td>\n",
       "      <td>ON</td>\n",
       "      <td>London</td>\n",
       "      <td>42.93990</td>\n",
       "      <td>-81.27090</td>\n",
       "    </tr>\n",
       "    <tr>\n",
       "      <th>2</th>\n",
       "      <td>4516550</td>\n",
       "      <td>2017-06-21 15:00:00.287</td>\n",
       "      <td>CA</td>\n",
       "      <td>ON</td>\n",
       "      <td>Guelph</td>\n",
       "      <td>43.57760</td>\n",
       "      <td>-80.22010</td>\n",
       "    </tr>\n",
       "    <tr>\n",
       "      <th>3</th>\n",
       "      <td>4516600</td>\n",
       "      <td>2017-06-21 15:00:00.307</td>\n",
       "      <td>CA</td>\n",
       "      <td>ON</td>\n",
       "      <td>Stratford</td>\n",
       "      <td>43.37160</td>\n",
       "      <td>-80.97730</td>\n",
       "    </tr>\n",
       "    <tr>\n",
       "      <th>4</th>\n",
       "      <td>4516613</td>\n",
       "      <td>2017-06-21 15:00:00.497</td>\n",
       "      <td>CA</td>\n",
       "      <td>ON</td>\n",
       "      <td>Stratford</td>\n",
       "      <td>43.37160</td>\n",
       "      <td>-80.97730</td>\n",
       "    </tr>\n",
       "    <tr>\n",
       "      <th>...</th>\n",
       "      <td>...</td>\n",
       "      <td>...</td>\n",
       "      <td>...</td>\n",
       "      <td>...</td>\n",
       "      <td>...</td>\n",
       "      <td>...</td>\n",
       "      <td>...</td>\n",
       "    </tr>\n",
       "    <tr>\n",
       "      <th>22018</th>\n",
       "      <td>5614689</td>\n",
       "      <td>2017-06-21 13:23:01.370</td>\n",
       "      <td>CA</td>\n",
       "      <td>ON</td>\n",
       "      <td>London</td>\n",
       "      <td>42.96110</td>\n",
       "      <td>-81.24310</td>\n",
       "    </tr>\n",
       "    <tr>\n",
       "      <th>22020</th>\n",
       "      <td>5614801</td>\n",
       "      <td>2017-06-21 12:23:07.880</td>\n",
       "      <td>CA</td>\n",
       "      <td>ON</td>\n",
       "      <td>Saint Catharines</td>\n",
       "      <td>43.16440</td>\n",
       "      <td>-79.24560</td>\n",
       "    </tr>\n",
       "    <tr>\n",
       "      <th>22022</th>\n",
       "      <td>5614909</td>\n",
       "      <td>2017-06-21 00:23:07.903</td>\n",
       "      <td>CA</td>\n",
       "      <td>ON</td>\n",
       "      <td>Whitby</td>\n",
       "      <td>43.88730</td>\n",
       "      <td>-78.94220</td>\n",
       "    </tr>\n",
       "    <tr>\n",
       "      <th>22023</th>\n",
       "      <td>5614912</td>\n",
       "      <td>2017-06-21 11:23:07.953</td>\n",
       "      <td>CA</td>\n",
       "      <td>ON</td>\n",
       "      <td>Oakville</td>\n",
       "      <td>43.49340</td>\n",
       "      <td>-79.71260</td>\n",
       "    </tr>\n",
       "    <tr>\n",
       "      <th>22024</th>\n",
       "      <td>5615006</td>\n",
       "      <td>2017-06-21 17:23:08.033</td>\n",
       "      <td>CA</td>\n",
       "      <td>ON</td>\n",
       "      <td>Oakville</td>\n",
       "      <td>43.43090</td>\n",
       "      <td>-79.77670</td>\n",
       "    </tr>\n",
       "  </tbody>\n",
       "</table>\n",
       "<p>17973 rows × 7 columns</p>\n",
       "</div>"
      ],
      "text/plain": [
       "           _ID                   TimeSt Country Province              City  \\\n",
       "0      4516516  2017-06-21 00:00:00.143      CA       ON          Waterloo   \n",
       "1      4516547  2017-06-21 18:00:00.193      CA       ON            London   \n",
       "2      4516550  2017-06-21 15:00:00.287      CA       ON            Guelph   \n",
       "3      4516600  2017-06-21 15:00:00.307      CA       ON         Stratford   \n",
       "4      4516613  2017-06-21 15:00:00.497      CA       ON         Stratford   \n",
       "...        ...                      ...     ...      ...               ...   \n",
       "22018  5614689  2017-06-21 13:23:01.370      CA       ON            London   \n",
       "22020  5614801  2017-06-21 12:23:07.880      CA       ON  Saint Catharines   \n",
       "22022  5614909  2017-06-21 00:23:07.903      CA       ON            Whitby   \n",
       "22023  5614912  2017-06-21 11:23:07.953      CA       ON          Oakville   \n",
       "22024  5615006  2017-06-21 17:23:08.033      CA       ON          Oakville   \n",
       "\n",
       "       Latitude  Longitude  \n",
       "0      43.49347  -80.49123  \n",
       "1      42.93990  -81.27090  \n",
       "2      43.57760  -80.22010  \n",
       "3      43.37160  -80.97730  \n",
       "4      43.37160  -80.97730  \n",
       "...         ...        ...  \n",
       "22018  42.96110  -81.24310  \n",
       "22020  43.16440  -79.24560  \n",
       "22022  43.88730  -78.94220  \n",
       "22023  43.49340  -79.71260  \n",
       "22024  43.43090  -79.77670  \n",
       "\n",
       "[17973 rows x 7 columns]"
      ]
     },
     "execution_count": 11,
     "metadata": {},
     "output_type": "execute_result"
    }
   ],
   "source": [
    "df1"
   ]
  },
  {
   "cell_type": "code",
   "execution_count": 46,
   "id": "963edb58",
   "metadata": {},
   "outputs": [],
   "source": [
    "#reset indexes\n",
    "new_df = df1.reset_index(drop=True)"
   ]
  },
  {
   "cell_type": "code",
   "execution_count": 47,
   "id": "6a9a9e98",
   "metadata": {},
   "outputs": [],
   "source": [
    "#checked Canada's extreme points, removed all sus coordinates\n",
    "new_df = new_df[new_df.Longitude < -50]\n",
    "new_df = new_df[new_df.Latitude >41]\n",
    "new_df = new_df[new_df.Longitude > -142]\n",
    "new_df = new_df[new_df.Latitude <84]\n",
    "new_df = new_df.reset_index(drop=True)"
   ]
  },
  {
   "cell_type": "code",
   "execution_count": 48,
   "id": "19030e91",
   "metadata": {},
   "outputs": [
    {
     "data": {
      "text/html": [
       "<div>\n",
       "<style scoped>\n",
       "    .dataframe tbody tr th:only-of-type {\n",
       "        vertical-align: middle;\n",
       "    }\n",
       "\n",
       "    .dataframe tbody tr th {\n",
       "        vertical-align: top;\n",
       "    }\n",
       "\n",
       "    .dataframe thead th {\n",
       "        text-align: right;\n",
       "    }\n",
       "</style>\n",
       "<table border=\"1\" class=\"dataframe\">\n",
       "  <thead>\n",
       "    <tr style=\"text-align: right;\">\n",
       "      <th></th>\n",
       "      <th>_ID</th>\n",
       "      <th>TimeSt</th>\n",
       "      <th>Country</th>\n",
       "      <th>Province</th>\n",
       "      <th>City</th>\n",
       "      <th>Latitude</th>\n",
       "      <th>Longitude</th>\n",
       "    </tr>\n",
       "  </thead>\n",
       "  <tbody>\n",
       "    <tr>\n",
       "      <th>0</th>\n",
       "      <td>4516516</td>\n",
       "      <td>2017-06-21 00:00:00.143</td>\n",
       "      <td>CA</td>\n",
       "      <td>ON</td>\n",
       "      <td>Waterloo</td>\n",
       "      <td>43.49347</td>\n",
       "      <td>-80.49123</td>\n",
       "    </tr>\n",
       "    <tr>\n",
       "      <th>1</th>\n",
       "      <td>4516547</td>\n",
       "      <td>2017-06-21 18:00:00.193</td>\n",
       "      <td>CA</td>\n",
       "      <td>ON</td>\n",
       "      <td>London</td>\n",
       "      <td>42.93990</td>\n",
       "      <td>-81.27090</td>\n",
       "    </tr>\n",
       "    <tr>\n",
       "      <th>2</th>\n",
       "      <td>4516550</td>\n",
       "      <td>2017-06-21 15:00:00.287</td>\n",
       "      <td>CA</td>\n",
       "      <td>ON</td>\n",
       "      <td>Guelph</td>\n",
       "      <td>43.57760</td>\n",
       "      <td>-80.22010</td>\n",
       "    </tr>\n",
       "    <tr>\n",
       "      <th>3</th>\n",
       "      <td>4516600</td>\n",
       "      <td>2017-06-21 15:00:00.307</td>\n",
       "      <td>CA</td>\n",
       "      <td>ON</td>\n",
       "      <td>Stratford</td>\n",
       "      <td>43.37160</td>\n",
       "      <td>-80.97730</td>\n",
       "    </tr>\n",
       "    <tr>\n",
       "      <th>4</th>\n",
       "      <td>4516613</td>\n",
       "      <td>2017-06-21 15:00:00.497</td>\n",
       "      <td>CA</td>\n",
       "      <td>ON</td>\n",
       "      <td>Stratford</td>\n",
       "      <td>43.37160</td>\n",
       "      <td>-80.97730</td>\n",
       "    </tr>\n",
       "    <tr>\n",
       "      <th>...</th>\n",
       "      <td>...</td>\n",
       "      <td>...</td>\n",
       "      <td>...</td>\n",
       "      <td>...</td>\n",
       "      <td>...</td>\n",
       "      <td>...</td>\n",
       "      <td>...</td>\n",
       "    </tr>\n",
       "    <tr>\n",
       "      <th>17949</th>\n",
       "      <td>5614689</td>\n",
       "      <td>2017-06-21 13:23:01.370</td>\n",
       "      <td>CA</td>\n",
       "      <td>ON</td>\n",
       "      <td>London</td>\n",
       "      <td>42.96110</td>\n",
       "      <td>-81.24310</td>\n",
       "    </tr>\n",
       "    <tr>\n",
       "      <th>17950</th>\n",
       "      <td>5614801</td>\n",
       "      <td>2017-06-21 12:23:07.880</td>\n",
       "      <td>CA</td>\n",
       "      <td>ON</td>\n",
       "      <td>Saint Catharines</td>\n",
       "      <td>43.16440</td>\n",
       "      <td>-79.24560</td>\n",
       "    </tr>\n",
       "    <tr>\n",
       "      <th>17951</th>\n",
       "      <td>5614909</td>\n",
       "      <td>2017-06-21 00:23:07.903</td>\n",
       "      <td>CA</td>\n",
       "      <td>ON</td>\n",
       "      <td>Whitby</td>\n",
       "      <td>43.88730</td>\n",
       "      <td>-78.94220</td>\n",
       "    </tr>\n",
       "    <tr>\n",
       "      <th>17952</th>\n",
       "      <td>5614912</td>\n",
       "      <td>2017-06-21 11:23:07.953</td>\n",
       "      <td>CA</td>\n",
       "      <td>ON</td>\n",
       "      <td>Oakville</td>\n",
       "      <td>43.49340</td>\n",
       "      <td>-79.71260</td>\n",
       "    </tr>\n",
       "    <tr>\n",
       "      <th>17953</th>\n",
       "      <td>5615006</td>\n",
       "      <td>2017-06-21 17:23:08.033</td>\n",
       "      <td>CA</td>\n",
       "      <td>ON</td>\n",
       "      <td>Oakville</td>\n",
       "      <td>43.43090</td>\n",
       "      <td>-79.77670</td>\n",
       "    </tr>\n",
       "  </tbody>\n",
       "</table>\n",
       "<p>17954 rows × 7 columns</p>\n",
       "</div>"
      ],
      "text/plain": [
       "           _ID                   TimeSt Country Province              City  \\\n",
       "0      4516516  2017-06-21 00:00:00.143      CA       ON          Waterloo   \n",
       "1      4516547  2017-06-21 18:00:00.193      CA       ON            London   \n",
       "2      4516550  2017-06-21 15:00:00.287      CA       ON            Guelph   \n",
       "3      4516600  2017-06-21 15:00:00.307      CA       ON         Stratford   \n",
       "4      4516613  2017-06-21 15:00:00.497      CA       ON         Stratford   \n",
       "...        ...                      ...     ...      ...               ...   \n",
       "17949  5614689  2017-06-21 13:23:01.370      CA       ON            London   \n",
       "17950  5614801  2017-06-21 12:23:07.880      CA       ON  Saint Catharines   \n",
       "17951  5614909  2017-06-21 00:23:07.903      CA       ON            Whitby   \n",
       "17952  5614912  2017-06-21 11:23:07.953      CA       ON          Oakville   \n",
       "17953  5615006  2017-06-21 17:23:08.033      CA       ON          Oakville   \n",
       "\n",
       "       Latitude  Longitude  \n",
       "0      43.49347  -80.49123  \n",
       "1      42.93990  -81.27090  \n",
       "2      43.57760  -80.22010  \n",
       "3      43.37160  -80.97730  \n",
       "4      43.37160  -80.97730  \n",
       "...         ...        ...  \n",
       "17949  42.96110  -81.24310  \n",
       "17950  43.16440  -79.24560  \n",
       "17951  43.88730  -78.94220  \n",
       "17952  43.49340  -79.71260  \n",
       "17953  43.43090  -79.77670  \n",
       "\n",
       "[17954 rows x 7 columns]"
      ]
     },
     "execution_count": 48,
     "metadata": {},
     "output_type": "execute_result"
    }
   ],
   "source": [
    "new_df"
   ]
  },
  {
   "cell_type": "markdown",
   "id": "8896d343",
   "metadata": {},
   "source": [
    "# 2. Label"
   ]
  },
  {
   "cell_type": "code",
   "execution_count": 13,
   "id": "af3d0ad5",
   "metadata": {},
   "outputs": [
    {
     "data": {
      "text/html": [
       "<div>\n",
       "<style scoped>\n",
       "    .dataframe tbody tr th:only-of-type {\n",
       "        vertical-align: middle;\n",
       "    }\n",
       "\n",
       "    .dataframe tbody tr th {\n",
       "        vertical-align: top;\n",
       "    }\n",
       "\n",
       "    .dataframe thead th {\n",
       "        text-align: right;\n",
       "    }\n",
       "</style>\n",
       "<table border=\"1\" class=\"dataframe\">\n",
       "  <thead>\n",
       "    <tr style=\"text-align: right;\">\n",
       "      <th></th>\n",
       "      <th>POIID</th>\n",
       "      <th>Latitude</th>\n",
       "      <th>Longitude</th>\n",
       "    </tr>\n",
       "  </thead>\n",
       "  <tbody>\n",
       "    <tr>\n",
       "      <th>0</th>\n",
       "      <td>POI1</td>\n",
       "      <td>53.546167</td>\n",
       "      <td>-113.485734</td>\n",
       "    </tr>\n",
       "    <tr>\n",
       "      <th>1</th>\n",
       "      <td>POI2</td>\n",
       "      <td>53.546167</td>\n",
       "      <td>-113.485734</td>\n",
       "    </tr>\n",
       "    <tr>\n",
       "      <th>2</th>\n",
       "      <td>POI3</td>\n",
       "      <td>45.521629</td>\n",
       "      <td>-73.566024</td>\n",
       "    </tr>\n",
       "    <tr>\n",
       "      <th>3</th>\n",
       "      <td>POI4</td>\n",
       "      <td>45.224830</td>\n",
       "      <td>-63.232729</td>\n",
       "    </tr>\n",
       "  </tbody>\n",
       "</table>\n",
       "</div>"
      ],
      "text/plain": [
       "  POIID   Latitude   Longitude\n",
       "0  POI1  53.546167 -113.485734\n",
       "1  POI2  53.546167 -113.485734\n",
       "2  POI3  45.521629  -73.566024\n",
       "3  POI4  45.224830  -63.232729"
      ]
     },
     "execution_count": 13,
     "metadata": {},
     "output_type": "execute_result"
    }
   ],
   "source": [
    "poi = pd.read_csv(os.path.expanduser('~/data/POIList.csv'))\n",
    "poi"
   ]
  },
  {
   "cell_type": "markdown",
   "id": "0559aff7",
   "metadata": {},
   "source": [
    "POI1 = POI2, so I'll drop one of them"
   ]
  },
  {
   "cell_type": "code",
   "execution_count": 16,
   "id": "d0388f87",
   "metadata": {},
   "outputs": [
    {
     "data": {
      "text/html": [
       "<div>\n",
       "<style scoped>\n",
       "    .dataframe tbody tr th:only-of-type {\n",
       "        vertical-align: middle;\n",
       "    }\n",
       "\n",
       "    .dataframe tbody tr th {\n",
       "        vertical-align: top;\n",
       "    }\n",
       "\n",
       "    .dataframe thead th {\n",
       "        text-align: right;\n",
       "    }\n",
       "</style>\n",
       "<table border=\"1\" class=\"dataframe\">\n",
       "  <thead>\n",
       "    <tr style=\"text-align: right;\">\n",
       "      <th></th>\n",
       "      <th>POIID</th>\n",
       "      <th>Latitude</th>\n",
       "      <th>Longitude</th>\n",
       "    </tr>\n",
       "  </thead>\n",
       "  <tbody>\n",
       "    <tr>\n",
       "      <th>0</th>\n",
       "      <td>POI2</td>\n",
       "      <td>53.546167</td>\n",
       "      <td>-113.485734</td>\n",
       "    </tr>\n",
       "    <tr>\n",
       "      <th>1</th>\n",
       "      <td>POI3</td>\n",
       "      <td>45.521629</td>\n",
       "      <td>-73.566024</td>\n",
       "    </tr>\n",
       "    <tr>\n",
       "      <th>2</th>\n",
       "      <td>POI4</td>\n",
       "      <td>45.224830</td>\n",
       "      <td>-63.232729</td>\n",
       "    </tr>\n",
       "  </tbody>\n",
       "</table>\n",
       "</div>"
      ],
      "text/plain": [
       "  POIID   Latitude   Longitude\n",
       "0  POI2  53.546167 -113.485734\n",
       "1  POI3  45.521629  -73.566024\n",
       "2  POI4  45.224830  -63.232729"
      ]
     },
     "execution_count": 16,
     "metadata": {},
     "output_type": "execute_result"
    }
   ],
   "source": [
    "poi = poi.drop_duplicates(subset = ['Longitude', ' Latitude'], keep = 'last')\n",
    "poi = poi.reset_index(drop=True)\n",
    "poi"
   ]
  },
  {
   "cell_type": "code",
   "execution_count": 17,
   "id": "99da7d83",
   "metadata": {},
   "outputs": [],
   "source": [
    "# function to calculate the distance between points based on coordinates\n",
    "def haversine_distance(coord1, coord2):\n",
    "    lat1 = coord1[0]\n",
    "    lon1 = coord1[1]\n",
    "    lat2 = coord2[0]\n",
    "    lon2 = coord2[1]\n",
    "    r = 6371\n",
    "    phi1 = np.radians(lat1)\n",
    "    phi2 = np.radians(lat2)\n",
    "    delta_phi = np.radians(lat2 - lat1)\n",
    "    delta_lambda = np.radians(lon2 - lon1)\n",
    "    a = np.sin(delta_phi / 2)**2 + np.cos(phi1) * np.cos(phi2) *   np.sin(delta_lambda / 2)**2\n",
    "    res = r * (2 * np.arctan2(np.sqrt(a), np.sqrt(1 - a)))\n",
    "    return np.round(res, 2)"
   ]
  },
  {
   "cell_type": "code",
   "execution_count": 19,
   "id": "f95909b2",
   "metadata": {},
   "outputs": [],
   "source": [
    "coords = list(zip(new_df['Latitude'], new_df['Longitude']))\n",
    "poi_coords = list(zip(poi[' Latitude'], poi['Longitude']))"
   ]
  },
  {
   "cell_type": "code",
   "execution_count": 20,
   "id": "e3820266",
   "metadata": {},
   "outputs": [
    {
     "data": {
      "text/plain": [
       "array([[2643.75,  593.41, 1382.79],\n",
       "       [2630.72,  677.31, 1459.84],\n",
       "       [2655.75,  569.65, 1359.33],\n",
       "       ...,\n",
       "       [2718.66,  462.  , 1251.55],\n",
       "       [2694.24,  536.87, 1321.86],\n",
       "       [2694.21,  544.65, 1328.58]])"
      ]
     },
     "execution_count": 20,
     "metadata": {},
     "output_type": "execute_result"
    }
   ],
   "source": [
    "# distances between requests and each POI\n",
    "dist = distance.cdist(coords, poi_coords, haversine_distance)"
   ]
  },
  {
   "cell_type": "code",
   "execution_count": 33,
   "id": "f8b9b21e",
   "metadata": {},
   "outputs": [],
   "source": [
    "# creating array with min distances to each POI\n",
    "distance =[[min(pp), poi['POIID'][np.argmin(pp)]] for pp in dist]"
   ]
  },
  {
   "cell_type": "code",
   "execution_count": 49,
   "id": "b71dabd9",
   "metadata": {},
   "outputs": [
    {
     "data": {
      "text/html": [
       "<div>\n",
       "<style scoped>\n",
       "    .dataframe tbody tr th:only-of-type {\n",
       "        vertical-align: middle;\n",
       "    }\n",
       "\n",
       "    .dataframe tbody tr th {\n",
       "        vertical-align: top;\n",
       "    }\n",
       "\n",
       "    .dataframe thead th {\n",
       "        text-align: right;\n",
       "    }\n",
       "</style>\n",
       "<table border=\"1\" class=\"dataframe\">\n",
       "  <thead>\n",
       "    <tr style=\"text-align: right;\">\n",
       "      <th></th>\n",
       "      <th>_ID</th>\n",
       "      <th>TimeSt</th>\n",
       "      <th>Country</th>\n",
       "      <th>Province</th>\n",
       "      <th>City</th>\n",
       "      <th>Latitude</th>\n",
       "      <th>Longitude</th>\n",
       "      <th>distance</th>\n",
       "      <th>POI</th>\n",
       "    </tr>\n",
       "  </thead>\n",
       "  <tbody>\n",
       "    <tr>\n",
       "      <th>0</th>\n",
       "      <td>4516516</td>\n",
       "      <td>2017-06-21 00:00:00.143</td>\n",
       "      <td>CA</td>\n",
       "      <td>ON</td>\n",
       "      <td>Waterloo</td>\n",
       "      <td>43.49347</td>\n",
       "      <td>-80.49123</td>\n",
       "      <td>593.41</td>\n",
       "      <td>POI3</td>\n",
       "    </tr>\n",
       "    <tr>\n",
       "      <th>1</th>\n",
       "      <td>4516547</td>\n",
       "      <td>2017-06-21 18:00:00.193</td>\n",
       "      <td>CA</td>\n",
       "      <td>ON</td>\n",
       "      <td>London</td>\n",
       "      <td>42.93990</td>\n",
       "      <td>-81.27090</td>\n",
       "      <td>677.31</td>\n",
       "      <td>POI3</td>\n",
       "    </tr>\n",
       "    <tr>\n",
       "      <th>2</th>\n",
       "      <td>4516550</td>\n",
       "      <td>2017-06-21 15:00:00.287</td>\n",
       "      <td>CA</td>\n",
       "      <td>ON</td>\n",
       "      <td>Guelph</td>\n",
       "      <td>43.57760</td>\n",
       "      <td>-80.22010</td>\n",
       "      <td>569.65</td>\n",
       "      <td>POI3</td>\n",
       "    </tr>\n",
       "    <tr>\n",
       "      <th>3</th>\n",
       "      <td>4516600</td>\n",
       "      <td>2017-06-21 15:00:00.307</td>\n",
       "      <td>CA</td>\n",
       "      <td>ON</td>\n",
       "      <td>Stratford</td>\n",
       "      <td>43.37160</td>\n",
       "      <td>-80.97730</td>\n",
       "      <td>634.73</td>\n",
       "      <td>POI3</td>\n",
       "    </tr>\n",
       "    <tr>\n",
       "      <th>4</th>\n",
       "      <td>4516613</td>\n",
       "      <td>2017-06-21 15:00:00.497</td>\n",
       "      <td>CA</td>\n",
       "      <td>ON</td>\n",
       "      <td>Stratford</td>\n",
       "      <td>43.37160</td>\n",
       "      <td>-80.97730</td>\n",
       "      <td>634.73</td>\n",
       "      <td>POI3</td>\n",
       "    </tr>\n",
       "    <tr>\n",
       "      <th>...</th>\n",
       "      <td>...</td>\n",
       "      <td>...</td>\n",
       "      <td>...</td>\n",
       "      <td>...</td>\n",
       "      <td>...</td>\n",
       "      <td>...</td>\n",
       "      <td>...</td>\n",
       "      <td>...</td>\n",
       "      <td>...</td>\n",
       "    </tr>\n",
       "    <tr>\n",
       "      <th>17949</th>\n",
       "      <td>5614689</td>\n",
       "      <td>2017-06-21 13:23:01.370</td>\n",
       "      <td>CA</td>\n",
       "      <td>ON</td>\n",
       "      <td>London</td>\n",
       "      <td>42.96110</td>\n",
       "      <td>-81.24310</td>\n",
       "      <td>674.21</td>\n",
       "      <td>POI3</td>\n",
       "    </tr>\n",
       "    <tr>\n",
       "      <th>17950</th>\n",
       "      <td>5614801</td>\n",
       "      <td>2017-06-21 12:23:07.880</td>\n",
       "      <td>CA</td>\n",
       "      <td>ON</td>\n",
       "      <td>Saint Catharines</td>\n",
       "      <td>43.16440</td>\n",
       "      <td>-79.24560</td>\n",
       "      <td>522.02</td>\n",
       "      <td>POI3</td>\n",
       "    </tr>\n",
       "    <tr>\n",
       "      <th>17951</th>\n",
       "      <td>5614909</td>\n",
       "      <td>2017-06-21 00:23:07.903</td>\n",
       "      <td>CA</td>\n",
       "      <td>ON</td>\n",
       "      <td>Whitby</td>\n",
       "      <td>43.88730</td>\n",
       "      <td>-78.94220</td>\n",
       "      <td>462.00</td>\n",
       "      <td>POI3</td>\n",
       "    </tr>\n",
       "    <tr>\n",
       "      <th>17952</th>\n",
       "      <td>5614912</td>\n",
       "      <td>2017-06-21 11:23:07.953</td>\n",
       "      <td>CA</td>\n",
       "      <td>ON</td>\n",
       "      <td>Oakville</td>\n",
       "      <td>43.49340</td>\n",
       "      <td>-79.71260</td>\n",
       "      <td>536.87</td>\n",
       "      <td>POI3</td>\n",
       "    </tr>\n",
       "    <tr>\n",
       "      <th>17953</th>\n",
       "      <td>5615006</td>\n",
       "      <td>2017-06-21 17:23:08.033</td>\n",
       "      <td>CA</td>\n",
       "      <td>ON</td>\n",
       "      <td>Oakville</td>\n",
       "      <td>43.43090</td>\n",
       "      <td>-79.77670</td>\n",
       "      <td>544.65</td>\n",
       "      <td>POI3</td>\n",
       "    </tr>\n",
       "  </tbody>\n",
       "</table>\n",
       "<p>17954 rows × 9 columns</p>\n",
       "</div>"
      ],
      "text/plain": [
       "           _ID                   TimeSt Country Province              City  \\\n",
       "0      4516516  2017-06-21 00:00:00.143      CA       ON          Waterloo   \n",
       "1      4516547  2017-06-21 18:00:00.193      CA       ON            London   \n",
       "2      4516550  2017-06-21 15:00:00.287      CA       ON            Guelph   \n",
       "3      4516600  2017-06-21 15:00:00.307      CA       ON         Stratford   \n",
       "4      4516613  2017-06-21 15:00:00.497      CA       ON         Stratford   \n",
       "...        ...                      ...     ...      ...               ...   \n",
       "17949  5614689  2017-06-21 13:23:01.370      CA       ON            London   \n",
       "17950  5614801  2017-06-21 12:23:07.880      CA       ON  Saint Catharines   \n",
       "17951  5614909  2017-06-21 00:23:07.903      CA       ON            Whitby   \n",
       "17952  5614912  2017-06-21 11:23:07.953      CA       ON          Oakville   \n",
       "17953  5615006  2017-06-21 17:23:08.033      CA       ON          Oakville   \n",
       "\n",
       "       Latitude  Longitude  distance   POI  \n",
       "0      43.49347  -80.49123    593.41  POI3  \n",
       "1      42.93990  -81.27090    677.31  POI3  \n",
       "2      43.57760  -80.22010    569.65  POI3  \n",
       "3      43.37160  -80.97730    634.73  POI3  \n",
       "4      43.37160  -80.97730    634.73  POI3  \n",
       "...         ...        ...       ...   ...  \n",
       "17949  42.96110  -81.24310    674.21  POI3  \n",
       "17950  43.16440  -79.24560    522.02  POI3  \n",
       "17951  43.88730  -78.94220    462.00  POI3  \n",
       "17952  43.49340  -79.71260    536.87  POI3  \n",
       "17953  43.43090  -79.77670    544.65  POI3  \n",
       "\n",
       "[17954 rows x 9 columns]"
      ]
     },
     "execution_count": 49,
     "metadata": {},
     "output_type": "execute_result"
    }
   ],
   "source": [
    "new_df = new_df.join(pd.DataFrame(data = distance, columns = ['distance', 'POI']))\n",
    "new_df"
   ]
  },
  {
   "cell_type": "code",
   "execution_count": 124,
   "id": "d3eb57e5",
   "metadata": {},
   "outputs": [
    {
     "data": {
      "text/html": [
       "<div>\n",
       "<style scoped>\n",
       "    .dataframe tbody tr th:only-of-type {\n",
       "        vertical-align: middle;\n",
       "    }\n",
       "\n",
       "    .dataframe tbody tr th {\n",
       "        vertical-align: top;\n",
       "    }\n",
       "\n",
       "    .dataframe thead th {\n",
       "        text-align: right;\n",
       "    }\n",
       "</style>\n",
       "<table border=\"1\" class=\"dataframe\">\n",
       "  <thead>\n",
       "    <tr style=\"text-align: right;\">\n",
       "      <th></th>\n",
       "      <th>POIID</th>\n",
       "      <th>Latitude</th>\n",
       "      <th>Longitude</th>\n",
       "      <th>geometry</th>\n",
       "    </tr>\n",
       "  </thead>\n",
       "  <tbody>\n",
       "    <tr>\n",
       "      <th>0</th>\n",
       "      <td>POI2</td>\n",
       "      <td>53.546167</td>\n",
       "      <td>-113.485734</td>\n",
       "      <td>POINT (-113.48573 53.54617)</td>\n",
       "    </tr>\n",
       "    <tr>\n",
       "      <th>1</th>\n",
       "      <td>POI3</td>\n",
       "      <td>45.521629</td>\n",
       "      <td>-73.566024</td>\n",
       "      <td>POINT (-73.56602 45.52163)</td>\n",
       "    </tr>\n",
       "    <tr>\n",
       "      <th>2</th>\n",
       "      <td>POI4</td>\n",
       "      <td>45.224830</td>\n",
       "      <td>-63.232729</td>\n",
       "      <td>POINT (-63.23273 45.22483)</td>\n",
       "    </tr>\n",
       "  </tbody>\n",
       "</table>\n",
       "</div>"
      ],
      "text/plain": [
       "  POIID   Latitude   Longitude                     geometry\n",
       "0  POI2  53.546167 -113.485734  POINT (-113.48573 53.54617)\n",
       "1  POI3  45.521629  -73.566024   POINT (-73.56602 45.52163)\n",
       "2  POI4  45.224830  -63.232729   POINT (-63.23273 45.22483)"
      ]
     },
     "execution_count": 124,
     "metadata": {},
     "output_type": "execute_result"
    }
   ],
   "source": [
    "poi"
   ]
  },
  {
   "cell_type": "code",
   "execution_count": 163,
   "id": "d3ce67d9",
   "metadata": {},
   "outputs": [
    {
     "data": {
      "text/plain": [
       "53.546167"
      ]
     },
     "execution_count": 163,
     "metadata": {},
     "output_type": "execute_result"
    }
   ],
   "source": [
    "iii = poi[' Latitude'][poi.index[poi['POIID'].values=='POI2']]\n",
    "iii[0]"
   ]
  },
  {
   "cell_type": "code",
   "execution_count": 158,
   "id": "c60d08a1",
   "metadata": {},
   "outputs": [
    {
     "data": {
      "text/plain": [
       "Int64Index([0], dtype='int64')"
      ]
     },
     "execution_count": 158,
     "metadata": {},
     "output_type": "execute_result"
    }
   ],
   "source": [
    "dddd = poi.index[poi['POIID'].values=='POI2']\n",
    "dddd"
   ]
  },
  {
   "cell_type": "markdown",
   "id": "6595dae4",
   "metadata": {},
   "source": [
    "# 3. Analysis"
   ]
  },
  {
   "cell_type": "code",
   "execution_count": 164,
   "id": "8f4c2311",
   "metadata": {},
   "outputs": [
    {
     "data": {
      "text/plain": [
       "62.8273"
      ]
     },
     "execution_count": 164,
     "metadata": {},
     "output_type": "execute_result"
    }
   ],
   "source": [
    "new_max = [new_df.loc[new_df.loc[new_df.POI == my_poi].distance.idxmax()] for my_poi in poi['POIID']]\n",
    "new_max[0]['Latitude']"
   ]
  },
  {
   "cell_type": "code",
   "execution_count": 139,
   "id": "9425a362",
   "metadata": {},
   "outputs": [
    {
     "data": {
      "text/plain": [
       "POI\n",
       "POI2    294.393756\n",
       "POI3    451.651066\n",
       "POI4    242.913309\n",
       "Name: distance, dtype: float64"
      ]
     },
     "execution_count": 139,
     "metadata": {},
     "output_type": "execute_result"
    }
   ],
   "source": [
    "new_mean = new_df.groupby(new_df.POI).distance.mean()\n",
    "new_mean"
   ]
  },
  {
   "cell_type": "code",
   "execution_count": 140,
   "id": "f4257feb",
   "metadata": {},
   "outputs": [
    {
     "data": {
      "text/plain": [
       "POI\n",
       "POI2    284.415721\n",
       "POI3    223.631883\n",
       "POI4    229.168911\n",
       "Name: distance, dtype: float64"
      ]
     },
     "execution_count": 140,
     "metadata": {},
     "output_type": "execute_result"
    }
   ],
   "source": [
    "df_std = new_df.groupby(new_df.POI).distance.std()\n",
    "df_std"
   ]
  },
  {
   "cell_type": "code",
   "execution_count": 79,
   "id": "6e55973b",
   "metadata": {},
   "outputs": [],
   "source": [
    "# downloaded Cartographic Boundary File from \n",
    "#https://www12.statcan.gc.ca/census-recensement/2011/geo/bound-limit/bound-limit-2011-eng.cfm\n",
    "canada = gpd.read_file('gpr_000b11a_e.shp')"
   ]
  },
  {
   "cell_type": "code",
   "execution_count": 82,
   "id": "a91772ac",
   "metadata": {},
   "outputs": [
    {
     "data": {
      "text/plain": [
       "[<shapely.geometry.point.Point at 0x7f88e8a78880>,\n",
       " <shapely.geometry.point.Point at 0x7f88e97dcb80>,\n",
       " <shapely.geometry.point.Point at 0x7f88e8a784f0>]"
      ]
     },
     "execution_count": 82,
     "metadata": {},
     "output_type": "execute_result"
    }
   ],
   "source": [
    "geom_poi = [Point(xy) for xy in zip(poi['Longitude'], poi[' Latitude'])]\n",
    "geom_poi"
   ]
  },
  {
   "cell_type": "code",
   "execution_count": 83,
   "id": "6cb03fba",
   "metadata": {},
   "outputs": [
    {
     "data": {
      "text/html": [
       "<div>\n",
       "<style scoped>\n",
       "    .dataframe tbody tr th:only-of-type {\n",
       "        vertical-align: middle;\n",
       "    }\n",
       "\n",
       "    .dataframe tbody tr th {\n",
       "        vertical-align: top;\n",
       "    }\n",
       "\n",
       "    .dataframe thead th {\n",
       "        text-align: right;\n",
       "    }\n",
       "</style>\n",
       "<table border=\"1\" class=\"dataframe\">\n",
       "  <thead>\n",
       "    <tr style=\"text-align: right;\">\n",
       "      <th></th>\n",
       "      <th>POIID</th>\n",
       "      <th>Latitude</th>\n",
       "      <th>Longitude</th>\n",
       "      <th>geometry</th>\n",
       "    </tr>\n",
       "  </thead>\n",
       "  <tbody>\n",
       "    <tr>\n",
       "      <th>0</th>\n",
       "      <td>POI2</td>\n",
       "      <td>53.546167</td>\n",
       "      <td>-113.485734</td>\n",
       "      <td>POINT (-113.48573 53.54617)</td>\n",
       "    </tr>\n",
       "    <tr>\n",
       "      <th>1</th>\n",
       "      <td>POI3</td>\n",
       "      <td>45.521629</td>\n",
       "      <td>-73.566024</td>\n",
       "      <td>POINT (-73.56602 45.52163)</td>\n",
       "    </tr>\n",
       "    <tr>\n",
       "      <th>2</th>\n",
       "      <td>POI4</td>\n",
       "      <td>45.224830</td>\n",
       "      <td>-63.232729</td>\n",
       "      <td>POINT (-63.23273 45.22483)</td>\n",
       "    </tr>\n",
       "  </tbody>\n",
       "</table>\n",
       "</div>"
      ],
      "text/plain": [
       "  POIID   Latitude   Longitude                     geometry\n",
       "0  POI2  53.546167 -113.485734  POINT (-113.48573 53.54617)\n",
       "1  POI3  45.521629  -73.566024   POINT (-73.56602 45.52163)\n",
       "2  POI4  45.224830  -63.232729   POINT (-63.23273 45.22483)"
      ]
     },
     "execution_count": 83,
     "metadata": {},
     "output_type": "execute_result"
    }
   ],
   "source": [
    "crs = 'EPSG:4326'\n",
    "geo_poi = gpd.GeoDataFrame(poi, crs=crs,geometry=geom_poi)\n",
    "geo_poi"
   ]
  },
  {
   "cell_type": "code",
   "execution_count": 84,
   "id": "09b1c49f",
   "metadata": {},
   "outputs": [
    {
     "data": {
      "text/html": [
       "<div>\n",
       "<style scoped>\n",
       "    .dataframe tbody tr th:only-of-type {\n",
       "        vertical-align: middle;\n",
       "    }\n",
       "\n",
       "    .dataframe tbody tr th {\n",
       "        vertical-align: top;\n",
       "    }\n",
       "\n",
       "    .dataframe thead th {\n",
       "        text-align: right;\n",
       "    }\n",
       "</style>\n",
       "<table border=\"1\" class=\"dataframe\">\n",
       "  <thead>\n",
       "    <tr style=\"text-align: right;\">\n",
       "      <th></th>\n",
       "      <th>_ID</th>\n",
       "      <th>TimeSt</th>\n",
       "      <th>Country</th>\n",
       "      <th>Province</th>\n",
       "      <th>City</th>\n",
       "      <th>Latitude</th>\n",
       "      <th>Longitude</th>\n",
       "      <th>distance</th>\n",
       "      <th>POI</th>\n",
       "      <th>geometry</th>\n",
       "    </tr>\n",
       "  </thead>\n",
       "  <tbody>\n",
       "    <tr>\n",
       "      <th>0</th>\n",
       "      <td>4516516</td>\n",
       "      <td>2017-06-21 00:00:00.143</td>\n",
       "      <td>CA</td>\n",
       "      <td>ON</td>\n",
       "      <td>Waterloo</td>\n",
       "      <td>43.49347</td>\n",
       "      <td>-80.49123</td>\n",
       "      <td>593.41</td>\n",
       "      <td>POI3</td>\n",
       "      <td>POINT (-80.49123 43.49347)</td>\n",
       "    </tr>\n",
       "    <tr>\n",
       "      <th>1</th>\n",
       "      <td>4516547</td>\n",
       "      <td>2017-06-21 18:00:00.193</td>\n",
       "      <td>CA</td>\n",
       "      <td>ON</td>\n",
       "      <td>London</td>\n",
       "      <td>42.93990</td>\n",
       "      <td>-81.27090</td>\n",
       "      <td>677.31</td>\n",
       "      <td>POI3</td>\n",
       "      <td>POINT (-81.27090 42.93990)</td>\n",
       "    </tr>\n",
       "    <tr>\n",
       "      <th>2</th>\n",
       "      <td>4516550</td>\n",
       "      <td>2017-06-21 15:00:00.287</td>\n",
       "      <td>CA</td>\n",
       "      <td>ON</td>\n",
       "      <td>Guelph</td>\n",
       "      <td>43.57760</td>\n",
       "      <td>-80.22010</td>\n",
       "      <td>569.65</td>\n",
       "      <td>POI3</td>\n",
       "      <td>POINT (-80.22010 43.57760)</td>\n",
       "    </tr>\n",
       "    <tr>\n",
       "      <th>3</th>\n",
       "      <td>4516600</td>\n",
       "      <td>2017-06-21 15:00:00.307</td>\n",
       "      <td>CA</td>\n",
       "      <td>ON</td>\n",
       "      <td>Stratford</td>\n",
       "      <td>43.37160</td>\n",
       "      <td>-80.97730</td>\n",
       "      <td>634.73</td>\n",
       "      <td>POI3</td>\n",
       "      <td>POINT (-80.97730 43.37160)</td>\n",
       "    </tr>\n",
       "    <tr>\n",
       "      <th>4</th>\n",
       "      <td>4516613</td>\n",
       "      <td>2017-06-21 15:00:00.497</td>\n",
       "      <td>CA</td>\n",
       "      <td>ON</td>\n",
       "      <td>Stratford</td>\n",
       "      <td>43.37160</td>\n",
       "      <td>-80.97730</td>\n",
       "      <td>634.73</td>\n",
       "      <td>POI3</td>\n",
       "      <td>POINT (-80.97730 43.37160)</td>\n",
       "    </tr>\n",
       "  </tbody>\n",
       "</table>\n",
       "</div>"
      ],
      "text/plain": [
       "       _ID                   TimeSt Country Province       City  Latitude  \\\n",
       "0  4516516  2017-06-21 00:00:00.143      CA       ON   Waterloo  43.49347   \n",
       "1  4516547  2017-06-21 18:00:00.193      CA       ON     London  42.93990   \n",
       "2  4516550  2017-06-21 15:00:00.287      CA       ON     Guelph  43.57760   \n",
       "3  4516600  2017-06-21 15:00:00.307      CA       ON  Stratford  43.37160   \n",
       "4  4516613  2017-06-21 15:00:00.497      CA       ON  Stratford  43.37160   \n",
       "\n",
       "   Longitude  distance   POI                    geometry  \n",
       "0  -80.49123    593.41  POI3  POINT (-80.49123 43.49347)  \n",
       "1  -81.27090    677.31  POI3  POINT (-81.27090 42.93990)  \n",
       "2  -80.22010    569.65  POI3  POINT (-80.22010 43.57760)  \n",
       "3  -80.97730    634.73  POI3  POINT (-80.97730 43.37160)  \n",
       "4  -80.97730    634.73  POI3  POINT (-80.97730 43.37160)  "
      ]
     },
     "execution_count": 84,
     "metadata": {},
     "output_type": "execute_result"
    }
   ],
   "source": [
    "geometry = [Point(xy) for xy in zip(new_df['Longitude'], new_df['Latitude'])]\n",
    "geo_df = gpd.GeoDataFrame(new_df, crs=crs,geometry=geometry)\n",
    "geo_df.head()"
   ]
  },
  {
   "cell_type": "code",
   "execution_count": 103,
   "id": "f8416fec",
   "metadata": {},
   "outputs": [],
   "source": [
    "# calculate radius of circles using pythagorean theorem \n",
    "def radius(lat1, lon1, lat2, lon2):\n",
    "    \n",
    "    a = abs(lat2-lat1)\n",
    "    b = abs(lon2-lon1)\n",
    "    c = math.sqrt(a**2+b**2)\n",
    "    return c"
   ]
  },
  {
   "cell_type": "code",
   "execution_count": 130,
   "id": "2503f18b",
   "metadata": {},
   "outputs": [],
   "source": [
    "# centres of circles\n",
    "lon20 = geo_poi['Longitude'][0]\n",
    "lon21 = geo_poi['Longitude'][1]\n",
    "lon22 = geo_poi['Longitude'][2]\n",
    "lat20 = geo_poi[' Latitude'][0]\n",
    "lat21 = geo_poi[' Latitude'][1]\n",
    "lat22 = geo_poi[' Latitude'][2]\n",
    "circle2 = (lon20, lat20)\n",
    "circle3 = (lon21,lat21)\n",
    "circle4 = (lon22, lat22)"
   ]
  },
  {
   "cell_type": "code",
   "execution_count": 165,
   "id": "314a37a0",
   "metadata": {},
   "outputs": [],
   "source": [
    "# max_distance aka radius\n",
    "rad_lon20 = new_max[0]['Longitude']\n",
    "rad_lon21 = new_max[1]['Longitude']\n",
    "rad_lon22 = new_max[2]['Longitude']\n",
    "rad_lat20 = new_max[0]['Latitude']\n",
    "rad_lat21 = new_max[1]['Latitude']\n",
    "rad_lat22 = new_max[2]['Latitude']"
   ]
  },
  {
   "cell_type": "code",
   "execution_count": 166,
   "id": "bc6c07c2",
   "metadata": {},
   "outputs": [
    {
     "data": {
      "text/plain": [
       "<matplotlib.legend.Legend at 0x7f88e342ec70>"
      ]
     },
     "execution_count": 166,
     "metadata": {},
     "output_type": "execute_result"
    },
    {
     "data": {
      "image/png": "[encoded data removed]",
      "text/plain": [
       "<Figure size 1080x1080 with 1 Axes>"
      ]
     },
     "metadata": {
      "needs_background": "light"
     },
     "output_type": "display_data"
    }
   ],
   "source": [
    "fig,ax = plt.subplots(figsize = (15,15))\n",
    "canada.plot(ax=ax,alpha = 0.4, color='grey')\n",
    "poi_circle2 = plt.Circle(circle2, radius(rad_lat20, rad_lon20, lat20, lon20),alpha = 0.4, color='blue')\n",
    "poi_circle3 = plt.Circle(circle3, radius(rad_lat21, rad_lon21, lat21, lon21),alpha = 0.4, color='red')\n",
    "poi_circle4 = plt.Circle(circle4, radius(rad_lat22, rad_lon22, lat22, lon22),alpha = 0.4, color='green')\n",
    "geo_df[geo_df['POI'] == 'POI2'].plot(ax=ax, markersize = 20, color = 'blue', marker = 'o', label = 'POI2')\n",
    "geo_df[geo_df['POI'] == 'POI3'].plot(ax=ax, markersize = 20, color = 'red', marker = '^', label = 'POI3')\n",
    "geo_df[geo_df['POI'] == 'POI4'].plot(ax=ax, markersize = 20, color = 'green', marker = '*', label = 'POI3')\n",
    "ax.add_patch(poi_circle2)\n",
    "ax.add_patch(poi_circle3)\n",
    "ax.add_patch(poi_circle4)\n",
    "plt.legend(prop={'size':15})"
   ]
  },
  {
   "cell_type": "code",
   "execution_count": 172,
   "id": "7ec02e14",
   "metadata": {},
   "outputs": [],
   "source": [
    "#requests by POI\n",
    "reqs2 = len(new_df.loc[new_df['POI'] == 'POI2'])\n",
    "reqs3 = len(new_df.loc[new_df['POI'] == 'POI3'])\n",
    "reqs4 = len(new_df.loc[new_df['POI'] == 'POI4'])"
   ]
  },
  {
   "cell_type": "code",
   "execution_count": 181,
   "id": "abc64d88",
   "metadata": {},
   "outputs": [
    {
     "name": "stdout",
     "output_type": "stream",
     "text": [
      "8744 8802 408\n"
     ]
    }
   ],
   "source": [
    "print(reqs2,reqs3,reqs4)"
   ]
  },
  {
   "cell_type": "code",
   "execution_count": 179,
   "id": "c9e3365b",
   "metadata": {},
   "outputs": [],
   "source": [
    "#area by POI\n",
    "area_poi2 = math.pi*(radius(rad_lat20, rad_lon20, lat20, lon20))**2\n",
    "area_poi3 = math.pi*(radius(rad_lat21, rad_lon21, lat21, lon21))**2\n",
    "area_poi4 = math.pi*(radius(rad_lat22, rad_lon22, lat22, lon22))**2"
   ]
  },
  {
   "cell_type": "code",
   "execution_count": 182,
   "id": "007a1294",
   "metadata": {},
   "outputs": [
    {
     "name": "stdout",
     "output_type": "stream",
     "text": [
      "1940.3066347803444 1152.7382183296518 359.93022785829885\n"
     ]
    }
   ],
   "source": [
    "print(area_poi2,area_poi3,area_poi4)"
   ]
  },
  {
   "cell_type": "code",
   "execution_count": 180,
   "id": "82f850a4",
   "metadata": {},
   "outputs": [
    {
     "name": "stdout",
     "output_type": "stream",
     "text": [
      "4.506504200553785 7.635731912102586 1.1335530289515605\n"
     ]
    }
   ],
   "source": [
    "#density by POI\n",
    "density_poi2 = reqs2/area_poi2\n",
    "desity_poi3 = reqs3/area_poi3\n",
    "density_po4 = reqs4/area_poi4\n",
    "print(density_poi2, desity_poi3, density_po4)"
   ]
  },
  {
   "cell_type": "code",
   "execution_count": null,
   "id": "c86dcb9e",
   "metadata": {},
   "outputs": [],
   "source": []
  }
 ],
 "metadata": {
  "kernelspec": {
   "display_name": "Python 3",
   "language": "python",
   "name": "python3"
  },
  "language_info": {
   "codemirror_mode": {
    "name": "ipython",
    "version": 3
   },
   "file_extension": ".py",
   "mimetype": "text/x-python",
   "name": "python",
   "nbconvert_exporter": "python",
   "pygments_lexer": "ipython3",
   "version": "3.9.2"
  }
 },
 "nbformat": 4,
 "nbformat_minor": 5
}
